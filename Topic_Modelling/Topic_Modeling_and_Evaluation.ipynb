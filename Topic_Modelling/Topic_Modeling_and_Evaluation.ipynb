{
  "nbformat": 4,
  "nbformat_minor": 0,
  "metadata": {
    "colab": {
      "provenance": [],
      "authorship_tag": "ABX9TyPYlpbK/c2d58ZlvLRBAcWf",
      "include_colab_link": true
    },
    "kernelspec": {
      "name": "python3",
      "display_name": "Python 3"
    },
    "language_info": {
      "name": "python"
    }
  },
  "cells": [
    {
      "cell_type": "markdown",
      "metadata": {
        "id": "view-in-github",
        "colab_type": "text"
      },
      "source": [
        "<a href=\"https://colab.research.google.com/github/raviteja-padala/NLP/blob/main/Topic_Modelling/Topic_Modeling_and_Evaluation.ipynb\" target=\"_parent\"><img src=\"https://colab.research.google.com/assets/colab-badge.svg\" alt=\"Open In Colab\"/></a>"
      ]
    },
    {
      "cell_type": "markdown",
      "source": [
        "# Topic Modeling and Evaluation using Latent Dirichlet Allocation (LDA)\n"
      ],
      "metadata": {
        "id": "fUVEJEn2xqRQ"
      }
    },
    {
      "cell_type": "markdown",
      "source": [
        "## Objective:\n",
        "\n",
        "The objective of this analysis is to perform topic modeling on a dataset of product reviews on a health supplement product. We aim to discover and interpret the underlying topics within the reviews and evaluate the quality of the topics using coherence and perplexity scores.\n"
      ],
      "metadata": {
        "id": "PrUP0Cx388mQ"
      }
    },
    {
      "cell_type": "markdown",
      "source": [
        "\n",
        "\n",
        "## Contents:\n",
        "\n",
        "1. **Introduction**\n",
        "    - Explanation of Topic Modeling and its Importance\n",
        "    - Overview of Latent Dirichlet Allocation (LDA)\n",
        "\n",
        "2. **Data Preparation**\n",
        "    - Loading and Exploring the Dataset\n",
        "    - Preprocessing the Text Data\n",
        "    - Creating a Dictionary and Corpus\n",
        "\n",
        "3. **Topic Modeling with LDA**\n",
        "    - Building an Initial LDA Model\n",
        "    - Interpretation of Topics\n",
        "    - Evaluating Model Performance\n",
        "\n",
        "4. **Model Improvement**\n",
        "    - Finding the Optimal Number of Topics\n",
        "    - Tuning Hyperparameters for Better Results\n",
        "\n",
        "5. **Summary**\n",
        "    - Recap of the Key Findings and Processes\n",
        "    - Insights Gained from Topic Modeling\n",
        "\n",
        "6. **Conclusion**\n",
        "    - Implications of the Results\n",
        "    - Potential Applications of the Topic Model\n",
        "    - Future Directions and Areas for Improvement\n"
      ],
      "metadata": {
        "id": "x9F2chv18mBs"
      }
    },
    {
      "cell_type": "markdown",
      "source": [
        "# Topic modelling\n",
        "\n",
        "Topic modeling is a type of statistical analysis for discovering the abstract \"topics\" that occur in a collection of documents. It does this by assuming that each document is a mixture of topics, and that each topic is a distribution over words. The topic modeling algorithm learns the topics and their distributions by maximizing the likelihood of the observed words in the documents."
      ],
      "metadata": {
        "id": "-upRwDif8mY6"
      }
    },
    {
      "cell_type": "markdown",
      "source": [
        "## **Latent Dirichlet Allocation (LDA)**\n",
        "\n",
        "LDA is a generative probabilistic model used for topic modeling and document clustering. It assumes that documents are mixtures of topics and that topics are mixtures of words. LDA helps discover underlying themes or topics in a collection of documents by assigning each word in each document to a topic.\n",
        "\n",
        "**Assumptions of LDA:**\n",
        "\n",
        "1. **Bag of Words**: LDA assumes that documents are represented as a \"bag of words,\" meaning word order is not considered, only word frequencies matter.\n",
        "\n",
        "2. **Mixed Membership**: LDA assumes that each document contains a mixture of multiple topics, and each topic is a mixture of multiple words.\n",
        "\n",
        "3. **Dirichlet Priors**: LDA assumes that the distributions of topics in documents and the distributions of words in topics follow Dirichlet distributions. The hyperparameters alpha and beta control the concentration of these Dirichlet distributions.\n"
      ],
      "metadata": {
        "id": "jflwQ5VQT6FU"
      }
    },
    {
      "cell_type": "markdown",
      "source": [
        "Latent Dirichlet Allocation (LDA) is an unsupervised Generative probabilistic machine learning technique used for extracting:\n",
        "\n",
        "number of topics in data(corpus)\n",
        "distribution of topics in each text(document)\n",
        "distribution of words(terms) in each topic\n",
        "A topic is defined as a repeating pattern of co-occurring terms in a corpus.\n",
        "\n",
        "\n",
        "How LDA works:\n",
        "\n",
        "The two main inputs to the LDA topic model are the dictionary and the corpus.\n",
        "\n",
        "Dictionary: Unique ids for each unique word\n",
        "Eg:{‘able’: 0, ‘add’: 1, ‘sun’: 2, ‘great: 3, ‘away’: 4, ‘allow’: 5}\n",
        "\n",
        "Corpus: For each document number of times a particular word appeared(Document Term Matrix)\n",
        "Eg:Corpus:[(0, 1), (1, 2), (2, 1), (3, 1), (4, 1), (5, 1), (6, 1), (7, 1), (8, 1)\n",
        "\n",
        "For example, (0, 1) above implies, for the first document word id 0 (word: ‘able’) occurs once. Likewise (1,2), word id 1 (word: ‘add’) occurs twice and so on.\n",
        "\n",
        "→ Given a corpus of Document Term Matrix, it converts this matrix into 2 other matrices- document-topic matrix and topic-term matrix.\n",
        "\n",
        "The end goal of LDA is to find the optimized representation of doc-topic matrix and topic-term matrix.\n",
        "\n",
        "\n",
        "\n",
        "### **How LDA Works:**\n",
        "\n",
        "1. **Initialization**:\n",
        "   - LDA starts with a fixed number of topics (K) and initializes topic assignments for each word in each document randomly.\n",
        "\n",
        "2. **Iterative Training**:\n",
        "   - LDA iteratively refines topic assignments until convergence.\n",
        "   - In each iteration, LDA does the following:\n",
        "     - For each word in each document, compute the probability that it belongs to each topic based on the current topic assignments and model parameters.\n",
        "     - Sample a new topic assignment for each word based on these probabilities.\n",
        "     - Update the topic-term distribution and document-topic distribution.\n",
        "\n",
        "3. **Output**:\n",
        "   - After training, LDA provides the following outputs:\n",
        "     - The set of K topics, each represented as a cluster of words.\n",
        "     - For each document, a distribution over the K topics, indicating the document's topic proportions.\n",
        "     - For each topic, a distribution over the vocabulary, indicating the words most associated with that topic.\n",
        "\n",
        "**LDA Input:**\n",
        "\n",
        "1. **M no. of documents**: The collection of text data that you want to analyze for topics.\n",
        "\n",
        "2. **Each of these documents have N no. of words**: The words within each document that make up the text.\n",
        "\n",
        "3. **Hyperparameters - alpha and beta**: Hyperparameters alpha and beta are used to shape the Dirichlet distributions for document-topic and topic-word assignments, respectively. They influence the sparsity of these distributions.\n",
        "\n",
        "4. **All of which needs to pass through LDA**: The documents and hyperparameters are used as input to the LDA model.\n",
        "\n",
        "**LDA Output:**\n",
        "\n",
        "1. **K no. of topics (clusters of words)**: LDA identifies K topics from the collection of documents. Each topic is represented as a cluster of words that are most associated with that topic.\n",
        "\n",
        "2. **Document-to-topic distribution**: For each document, LDA provides a distribution over the K topics. This distribution indicates the topic proportions for that document, revealing how much each topic contributes to the document's content.\n",
        "\n",
        "3. **Topic-term distribution**: For each topic, LDA provides a distribution over the vocabulary. This distribution shows the words that are most strongly associated with that topic, helping to interpret the topic's meaning.\n",
        "\n",
        "In summary, LDA is a powerful tool for uncovering the underlying structure in text data by identifying topics within documents and the distribution of topics across the entire corpus. It's widely used in natural language processing and text analysis tasks such as document categorization, sentiment analysis, and content recommendation."
      ],
      "metadata": {
        "id": "dZrFQMgDBcgR"
      }
    },
    {
      "cell_type": "markdown",
      "source": [
        "## Import Libraries"
      ],
      "metadata": {
        "id": "sof7WX9_102h"
      }
    },
    {
      "cell_type": "code",
      "source": [
        "import pandas as pd\n",
        "import re\n",
        "import string\n",
        "import nltk\n",
        "nltk.download('stopwords')\n",
        "nltk.download('wordnet')\n",
        "from nltk.corpus import stopwords\n",
        "from nltk.stem import WordNetLemmatizer\n",
        "from gensim import corpora\n",
        "from gensim.models import LdaModel\n",
        "import matplotlib.pyplot as plt\n",
        "import requests\n",
        "from bs4 import BeautifulSoup as bs\n",
        "import warnings\n",
        "warnings.filterwarnings(\"ignore\", category=DeprecationWarning)\n",
        "# Suppress the specific warning about updated prior not being positive\n",
        "warnings.filterwarnings(\"ignore\", category=DeprecationWarning, module=\"gensim\")"
      ],
      "metadata": {
        "colab": {
          "base_uri": "https://localhost:8080/"
        },
        "id": "0kHQ59Yk15in",
        "outputId": "ec17f5a8-ddb0-4a3a-ccd6-0adfc2017c6f"
      },
      "execution_count": 1,
      "outputs": [
        {
          "output_type": "stream",
          "name": "stderr",
          "text": [
            "[nltk_data] Downloading package stopwords to /root/nltk_data...\n",
            "[nltk_data]   Unzipping corpora/stopwords.zip.\n",
            "[nltk_data] Downloading package wordnet to /root/nltk_data...\n"
          ]
        }
      ]
    },
    {
      "cell_type": "markdown",
      "source": [
        "## Import Data"
      ],
      "metadata": {
        "id": "rQV97hRfxuQp"
      }
    },
    {
      "cell_type": "code",
      "source": [
        "#loading dataset\n",
        "supplements_df = pd.read_csv(\"https://raw.githubusercontent.com/raviteja-padala/Datasets/main/supplements.csv\")"
      ],
      "metadata": {
        "id": "jUQ_RO-j3Tt_"
      },
      "execution_count": null,
      "outputs": []
    },
    {
      "cell_type": "code",
      "source": [
        "# viewing different products\n",
        "supplements_df['product_name'].unique()"
      ],
      "metadata": {
        "colab": {
          "base_uri": "https://localhost:8080/"
        },
        "id": "LAp-NGaa6COA",
        "outputId": "d1244ee1-1bf0-415a-af89-9f8c6979bc32"
      },
      "execution_count": null,
      "outputs": [
        {
          "output_type": "execute_result",
          "data": {
            "text/plain": [
              "array(['HK Vitals Biotin', 'MUSCLEBLAZE Creatine',\n",
              "       'HK_Vitals_Multivitamin_df', 'MUSCLEBLAZE Raw Whey Protein',\n",
              "       'BIGMUSCLES NUTRITION Premium Gold Whey Whey Protein',\n",
              "       'Endura Mass'], dtype=object)"
            ]
          },
          "metadata": {},
          "execution_count": 33
        }
      ]
    },
    {
      "cell_type": "code",
      "source": [
        "# Filter for products named 'MUSCLEBLAZE Creatine'\n",
        "creatine_df = supplements_df[supplements_df['product_name'] == 'MUSCLEBLAZE Creatine']"
      ],
      "metadata": {
        "id": "gSuYDAXv6jMw"
      },
      "execution_count": null,
      "outputs": []
    },
    {
      "cell_type": "markdown",
      "source": [
        "## Exploratory data analysis"
      ],
      "metadata": {
        "id": "klMA0R875lih"
      }
    },
    {
      "cell_type": "code",
      "source": [
        "#viewing top 5 documents\n",
        "creatine_df.head()"
      ],
      "metadata": {
        "colab": {
          "base_uri": "https://localhost:8080/",
          "height": 206
        },
        "id": "lm949v7C5kZI",
        "outputId": "089677dd-3582-40a4-db18-be7066a3e400"
      },
      "execution_count": null,
      "outputs": [
        {
          "output_type": "execute_result",
          "data": {
            "text/plain": [
              "             product_name       comment_header  \\\n",
              "210  MUSCLEBLAZE Creatine      Value-for-money   \n",
              "211  MUSCLEBLAZE Creatine  Best in the market!   \n",
              "212  MUSCLEBLAZE Creatine   Highly recommended   \n",
              "213  MUSCLEBLAZE Creatine            Fabulous!   \n",
              "214  MUSCLEBLAZE Creatine       Simply awesome   \n",
              "\n",
              "                                               comment rating  \n",
              "210          nice product u should go for it💪READ MORE      4  \n",
              "211  Superb product. Gives you lots of energy and s...      5  \n",
              "212                  Break Our Own Limits....READ MORE      5  \n",
              "213  1st user of a creatine supplement.  I totally ...      5  \n",
              "214  best and authentic product .good packaging and...      5  "
            ],
            "text/html": [
              "\n",
              "  <div id=\"df-57a358cb-ffdc-451b-bf79-397e92808ce0\" class=\"colab-df-container\">\n",
              "    <div>\n",
              "<style scoped>\n",
              "    .dataframe tbody tr th:only-of-type {\n",
              "        vertical-align: middle;\n",
              "    }\n",
              "\n",
              "    .dataframe tbody tr th {\n",
              "        vertical-align: top;\n",
              "    }\n",
              "\n",
              "    .dataframe thead th {\n",
              "        text-align: right;\n",
              "    }\n",
              "</style>\n",
              "<table border=\"1\" class=\"dataframe\">\n",
              "  <thead>\n",
              "    <tr style=\"text-align: right;\">\n",
              "      <th></th>\n",
              "      <th>product_name</th>\n",
              "      <th>comment_header</th>\n",
              "      <th>comment</th>\n",
              "      <th>rating</th>\n",
              "    </tr>\n",
              "  </thead>\n",
              "  <tbody>\n",
              "    <tr>\n",
              "      <th>210</th>\n",
              "      <td>MUSCLEBLAZE Creatine</td>\n",
              "      <td>Value-for-money</td>\n",
              "      <td>nice product u should go for it💪READ MORE</td>\n",
              "      <td>4</td>\n",
              "    </tr>\n",
              "    <tr>\n",
              "      <th>211</th>\n",
              "      <td>MUSCLEBLAZE Creatine</td>\n",
              "      <td>Best in the market!</td>\n",
              "      <td>Superb product. Gives you lots of energy and s...</td>\n",
              "      <td>5</td>\n",
              "    </tr>\n",
              "    <tr>\n",
              "      <th>212</th>\n",
              "      <td>MUSCLEBLAZE Creatine</td>\n",
              "      <td>Highly recommended</td>\n",
              "      <td>Break Our Own Limits....READ MORE</td>\n",
              "      <td>5</td>\n",
              "    </tr>\n",
              "    <tr>\n",
              "      <th>213</th>\n",
              "      <td>MUSCLEBLAZE Creatine</td>\n",
              "      <td>Fabulous!</td>\n",
              "      <td>1st user of a creatine supplement.  I totally ...</td>\n",
              "      <td>5</td>\n",
              "    </tr>\n",
              "    <tr>\n",
              "      <th>214</th>\n",
              "      <td>MUSCLEBLAZE Creatine</td>\n",
              "      <td>Simply awesome</td>\n",
              "      <td>best and authentic product .good packaging and...</td>\n",
              "      <td>5</td>\n",
              "    </tr>\n",
              "  </tbody>\n",
              "</table>\n",
              "</div>\n",
              "    <div class=\"colab-df-buttons\">\n",
              "\n",
              "  <div class=\"colab-df-container\">\n",
              "    <button class=\"colab-df-convert\" onclick=\"convertToInteractive('df-57a358cb-ffdc-451b-bf79-397e92808ce0')\"\n",
              "            title=\"Convert this dataframe to an interactive table.\"\n",
              "            style=\"display:none;\">\n",
              "\n",
              "  <svg xmlns=\"http://www.w3.org/2000/svg\" height=\"24px\" viewBox=\"0 -960 960 960\">\n",
              "    <path d=\"M120-120v-720h720v720H120Zm60-500h600v-160H180v160Zm220 220h160v-160H400v160Zm0 220h160v-160H400v160ZM180-400h160v-160H180v160Zm440 0h160v-160H620v160ZM180-180h160v-160H180v160Zm440 0h160v-160H620v160Z\"/>\n",
              "  </svg>\n",
              "    </button>\n",
              "\n",
              "  <style>\n",
              "    .colab-df-container {\n",
              "      display:flex;\n",
              "      gap: 12px;\n",
              "    }\n",
              "\n",
              "    .colab-df-convert {\n",
              "      background-color: #E8F0FE;\n",
              "      border: none;\n",
              "      border-radius: 50%;\n",
              "      cursor: pointer;\n",
              "      display: none;\n",
              "      fill: #1967D2;\n",
              "      height: 32px;\n",
              "      padding: 0 0 0 0;\n",
              "      width: 32px;\n",
              "    }\n",
              "\n",
              "    .colab-df-convert:hover {\n",
              "      background-color: #E2EBFA;\n",
              "      box-shadow: 0px 1px 2px rgba(60, 64, 67, 0.3), 0px 1px 3px 1px rgba(60, 64, 67, 0.15);\n",
              "      fill: #174EA6;\n",
              "    }\n",
              "\n",
              "    .colab-df-buttons div {\n",
              "      margin-bottom: 4px;\n",
              "    }\n",
              "\n",
              "    [theme=dark] .colab-df-convert {\n",
              "      background-color: #3B4455;\n",
              "      fill: #D2E3FC;\n",
              "    }\n",
              "\n",
              "    [theme=dark] .colab-df-convert:hover {\n",
              "      background-color: #434B5C;\n",
              "      box-shadow: 0px 1px 3px 1px rgba(0, 0, 0, 0.15);\n",
              "      filter: drop-shadow(0px 1px 2px rgba(0, 0, 0, 0.3));\n",
              "      fill: #FFFFFF;\n",
              "    }\n",
              "  </style>\n",
              "\n",
              "    <script>\n",
              "      const buttonEl =\n",
              "        document.querySelector('#df-57a358cb-ffdc-451b-bf79-397e92808ce0 button.colab-df-convert');\n",
              "      buttonEl.style.display =\n",
              "        google.colab.kernel.accessAllowed ? 'block' : 'none';\n",
              "\n",
              "      async function convertToInteractive(key) {\n",
              "        const element = document.querySelector('#df-57a358cb-ffdc-451b-bf79-397e92808ce0');\n",
              "        const dataTable =\n",
              "          await google.colab.kernel.invokeFunction('convertToInteractive',\n",
              "                                                    [key], {});\n",
              "        if (!dataTable) return;\n",
              "\n",
              "        const docLinkHtml = 'Like what you see? Visit the ' +\n",
              "          '<a target=\"_blank\" href=https://colab.research.google.com/notebooks/data_table.ipynb>data table notebook</a>'\n",
              "          + ' to learn more about interactive tables.';\n",
              "        element.innerHTML = '';\n",
              "        dataTable['output_type'] = 'display_data';\n",
              "        await google.colab.output.renderOutput(dataTable, element);\n",
              "        const docLink = document.createElement('div');\n",
              "        docLink.innerHTML = docLinkHtml;\n",
              "        element.appendChild(docLink);\n",
              "      }\n",
              "    </script>\n",
              "  </div>\n",
              "\n",
              "\n",
              "<div id=\"df-7818051c-31be-49da-b995-0026e1644029\">\n",
              "  <button class=\"colab-df-quickchart\" onclick=\"quickchart('df-7818051c-31be-49da-b995-0026e1644029')\"\n",
              "            title=\"Suggest charts.\"\n",
              "            style=\"display:none;\">\n",
              "\n",
              "<svg xmlns=\"http://www.w3.org/2000/svg\" height=\"24px\"viewBox=\"0 0 24 24\"\n",
              "     width=\"24px\">\n",
              "    <g>\n",
              "        <path d=\"M19 3H5c-1.1 0-2 .9-2 2v14c0 1.1.9 2 2 2h14c1.1 0 2-.9 2-2V5c0-1.1-.9-2-2-2zM9 17H7v-7h2v7zm4 0h-2V7h2v10zm4 0h-2v-4h2v4z\"/>\n",
              "    </g>\n",
              "</svg>\n",
              "  </button>\n",
              "\n",
              "<style>\n",
              "  .colab-df-quickchart {\n",
              "      --bg-color: #E8F0FE;\n",
              "      --fill-color: #1967D2;\n",
              "      --hover-bg-color: #E2EBFA;\n",
              "      --hover-fill-color: #174EA6;\n",
              "      --disabled-fill-color: #AAA;\n",
              "      --disabled-bg-color: #DDD;\n",
              "  }\n",
              "\n",
              "  [theme=dark] .colab-df-quickchart {\n",
              "      --bg-color: #3B4455;\n",
              "      --fill-color: #D2E3FC;\n",
              "      --hover-bg-color: #434B5C;\n",
              "      --hover-fill-color: #FFFFFF;\n",
              "      --disabled-bg-color: #3B4455;\n",
              "      --disabled-fill-color: #666;\n",
              "  }\n",
              "\n",
              "  .colab-df-quickchart {\n",
              "    background-color: var(--bg-color);\n",
              "    border: none;\n",
              "    border-radius: 50%;\n",
              "    cursor: pointer;\n",
              "    display: none;\n",
              "    fill: var(--fill-color);\n",
              "    height: 32px;\n",
              "    padding: 0;\n",
              "    width: 32px;\n",
              "  }\n",
              "\n",
              "  .colab-df-quickchart:hover {\n",
              "    background-color: var(--hover-bg-color);\n",
              "    box-shadow: 0 1px 2px rgba(60, 64, 67, 0.3), 0 1px 3px 1px rgba(60, 64, 67, 0.15);\n",
              "    fill: var(--button-hover-fill-color);\n",
              "  }\n",
              "\n",
              "  .colab-df-quickchart-complete:disabled,\n",
              "  .colab-df-quickchart-complete:disabled:hover {\n",
              "    background-color: var(--disabled-bg-color);\n",
              "    fill: var(--disabled-fill-color);\n",
              "    box-shadow: none;\n",
              "  }\n",
              "\n",
              "  .colab-df-spinner {\n",
              "    border: 2px solid var(--fill-color);\n",
              "    border-color: transparent;\n",
              "    border-bottom-color: var(--fill-color);\n",
              "    animation:\n",
              "      spin 1s steps(1) infinite;\n",
              "  }\n",
              "\n",
              "  @keyframes spin {\n",
              "    0% {\n",
              "      border-color: transparent;\n",
              "      border-bottom-color: var(--fill-color);\n",
              "      border-left-color: var(--fill-color);\n",
              "    }\n",
              "    20% {\n",
              "      border-color: transparent;\n",
              "      border-left-color: var(--fill-color);\n",
              "      border-top-color: var(--fill-color);\n",
              "    }\n",
              "    30% {\n",
              "      border-color: transparent;\n",
              "      border-left-color: var(--fill-color);\n",
              "      border-top-color: var(--fill-color);\n",
              "      border-right-color: var(--fill-color);\n",
              "    }\n",
              "    40% {\n",
              "      border-color: transparent;\n",
              "      border-right-color: var(--fill-color);\n",
              "      border-top-color: var(--fill-color);\n",
              "    }\n",
              "    60% {\n",
              "      border-color: transparent;\n",
              "      border-right-color: var(--fill-color);\n",
              "    }\n",
              "    80% {\n",
              "      border-color: transparent;\n",
              "      border-right-color: var(--fill-color);\n",
              "      border-bottom-color: var(--fill-color);\n",
              "    }\n",
              "    90% {\n",
              "      border-color: transparent;\n",
              "      border-bottom-color: var(--fill-color);\n",
              "    }\n",
              "  }\n",
              "</style>\n",
              "\n",
              "  <script>\n",
              "    async function quickchart(key) {\n",
              "      const quickchartButtonEl =\n",
              "        document.querySelector('#' + key + ' button');\n",
              "      quickchartButtonEl.disabled = true;  // To prevent multiple clicks.\n",
              "      quickchartButtonEl.classList.add('colab-df-spinner');\n",
              "      try {\n",
              "        const charts = await google.colab.kernel.invokeFunction(\n",
              "            'suggestCharts', [key], {});\n",
              "      } catch (error) {\n",
              "        console.error('Error during call to suggestCharts:', error);\n",
              "      }\n",
              "      quickchartButtonEl.classList.remove('colab-df-spinner');\n",
              "      quickchartButtonEl.classList.add('colab-df-quickchart-complete');\n",
              "    }\n",
              "    (() => {\n",
              "      let quickchartButtonEl =\n",
              "        document.querySelector('#df-7818051c-31be-49da-b995-0026e1644029 button');\n",
              "      quickchartButtonEl.style.display =\n",
              "        google.colab.kernel.accessAllowed ? 'block' : 'none';\n",
              "    })();\n",
              "  </script>\n",
              "</div>\n",
              "    </div>\n",
              "  </div>\n"
            ]
          },
          "metadata": {},
          "execution_count": 35
        }
      ]
    },
    {
      "cell_type": "code",
      "source": [
        "#shape of dataset\n",
        "creatine_df.shape"
      ],
      "metadata": {
        "colab": {
          "base_uri": "https://localhost:8080/"
        },
        "id": "dkUtxskh6-ao",
        "outputId": "d71135ce-518c-4c8b-84f4-4ae92d3bc4a4"
      },
      "execution_count": null,
      "outputs": [
        {
          "output_type": "execute_result",
          "data": {
            "text/plain": [
              "(810, 4)"
            ]
          },
          "metadata": {},
          "execution_count": 36
        }
      ]
    },
    {
      "cell_type": "code",
      "source": [
        "# info of dataset\n",
        "creatine_df.info()"
      ],
      "metadata": {
        "colab": {
          "base_uri": "https://localhost:8080/"
        },
        "id": "dO941RWl7B33",
        "outputId": "3827dc60-cc9c-4094-f7ec-32c229225a31"
      },
      "execution_count": null,
      "outputs": [
        {
          "output_type": "stream",
          "name": "stdout",
          "text": [
            "<class 'pandas.core.frame.DataFrame'>\n",
            "Int64Index: 810 entries, 210 to 1019\n",
            "Data columns (total 4 columns):\n",
            " #   Column          Non-Null Count  Dtype \n",
            "---  ------          --------------  ----- \n",
            " 0   product_name    810 non-null    object\n",
            " 1   comment_header  810 non-null    object\n",
            " 2   comment         810 non-null    object\n",
            " 3   rating          810 non-null    object\n",
            "dtypes: object(4)\n",
            "memory usage: 31.6+ KB\n"
          ]
        }
      ]
    },
    {
      "cell_type": "code",
      "source": [
        "#having a view of reviews\n",
        "creatine_df['comment']"
      ],
      "metadata": {
        "colab": {
          "base_uri": "https://localhost:8080/"
        },
        "id": "qMBYPmgY7UvQ",
        "outputId": "8015a308-8a12-4021-d0ea-9c8cb97c8376"
      },
      "execution_count": null,
      "outputs": [
        {
          "output_type": "execute_result",
          "data": {
            "text/plain": [
              "210             nice product u should go for it💪READ MORE\n",
              "211     Superb product. Gives you lots of energy and s...\n",
              "212                     Break Our Own Limits....READ MORE\n",
              "213     1st user of a creatine supplement.  I totally ...\n",
              "214     best and authentic product .good packaging and...\n",
              "                              ...                        \n",
              "1015                            Good prodakt 👌👌👌READ MORE\n",
              "1016         Love the product but its taste lessREAD MORE\n",
              "1017                                Good productREAD MORE\n",
              "1018                            Best in the gameREAD MORE\n",
              "1019                                        NiceREAD MORE\n",
              "Name: comment, Length: 810, dtype: object"
            ]
          },
          "metadata": {},
          "execution_count": 38
        }
      ]
    },
    {
      "cell_type": "markdown",
      "source": [
        "## Preprocess Data"
      ],
      "metadata": {
        "id": "Yxtn6AMD4cpo"
      }
    },
    {
      "cell_type": "code",
      "source": [
        "# Remove \"READ MORE\" from the 'cleaned_comments' column\n",
        "creatine_df.loc[creatine_df['comment'].str.contains('READ MORE'), 'comment'] = creatine_df['comment'].str.replace('READ MORE', '')"
      ],
      "metadata": {
        "colab": {
          "base_uri": "https://localhost:8080/"
        },
        "id": "zgqFBBjn4qQH",
        "outputId": "627fc6f7-0216-4cd5-8ce6-8bcc0d164376"
      },
      "execution_count": null,
      "outputs": [
        {
          "output_type": "stream",
          "name": "stderr",
          "text": [
            "<ipython-input-39-40fcc67d91b0>:2: SettingWithCopyWarning: \n",
            "A value is trying to be set on a copy of a slice from a DataFrame\n",
            "\n",
            "See the caveats in the documentation: https://pandas.pydata.org/pandas-docs/stable/user_guide/indexing.html#returning-a-view-versus-a-copy\n",
            "  creatine_df.loc[creatine_df['comment'].str.contains('READ MORE'), 'comment'] = creatine_df['comment'].str.replace('READ MORE', '')\n"
          ]
        }
      ]
    },
    {
      "cell_type": "code",
      "source": [
        "creatine_df['comment']"
      ],
      "metadata": {
        "colab": {
          "base_uri": "https://localhost:8080/"
        },
        "id": "algPJZx98gr4",
        "outputId": "a838461a-91d3-43de-a878-39810b222901"
      },
      "execution_count": null,
      "outputs": [
        {
          "output_type": "execute_result",
          "data": {
            "text/plain": [
              "210                      nice product u should go for it💪\n",
              "211     Superb product. Gives you lots of energy and s...\n",
              "212                              Break Our Own Limits....\n",
              "213     1st user of a creatine supplement.  I totally ...\n",
              "214     best and authentic product .good packaging and...\n",
              "                              ...                        \n",
              "1015                                     Good prodakt 👌👌👌\n",
              "1016                  Love the product but its taste less\n",
              "1017                                         Good product\n",
              "1018                                     Best in the game\n",
              "1019                                                 Nice\n",
              "Name: comment, Length: 810, dtype: object"
            ]
          },
          "metadata": {},
          "execution_count": 40
        }
      ]
    },
    {
      "cell_type": "code",
      "source": [
        "pip install emoji"
      ],
      "metadata": {
        "colab": {
          "base_uri": "https://localhost:8080/"
        },
        "id": "X-_QI20K91pz",
        "outputId": "4d8c1046-a63f-4a91-84e6-17d3ba641bff"
      },
      "execution_count": null,
      "outputs": [
        {
          "output_type": "stream",
          "name": "stdout",
          "text": [
            "Requirement already satisfied: emoji in /usr/local/lib/python3.10/dist-packages (2.8.0)\n"
          ]
        }
      ]
    },
    {
      "cell_type": "code",
      "source": [
        "import emoji"
      ],
      "metadata": {
        "id": "7Qt61Ksh-Qzc"
      },
      "execution_count": null,
      "outputs": []
    },
    {
      "cell_type": "code",
      "source": [
        "# Preprocess the data (reuse your preprocessing functions)\n",
        "stop_words = set(stopwords.words('english'))"
      ],
      "metadata": {
        "id": "hr5sJykN9TO4"
      },
      "execution_count": null,
      "outputs": []
    },
    {
      "cell_type": "code",
      "source": [
        "def preprocess_text(text):\n",
        "    \"\"\"\n",
        "    Preprocesses text data by:\n",
        "    - Lowercasing\n",
        "    - Removing emojis\n",
        "    - Removing punctuation\n",
        "    - Removing stopwords\n",
        "    - Tokenization\n",
        "    - Lemmatization\n",
        "\n",
        "\n",
        "    Args:\n",
        "        text (str): Input text to be preprocessed.\n",
        "\n",
        "    Returns:\n",
        "        str: Cleaned and preprocessed text.\n",
        "    \"\"\"\n",
        "    # Lowercasing and splitting into words\n",
        "    words = text.lower().split()\n",
        "\n",
        "    # Removing emojis\n",
        "    words = [emoji.demojize(word) for word in words]\n",
        "\n",
        "    # Removing Punctuation\n",
        "    words = [word.strip(string.punctuation) for word in words]\n",
        "\n",
        "    # Removing Stop words\n",
        "    words = [word for word in words if word not in stop_words]\n",
        "\n",
        "    # Tokenization\n",
        "    tokens = words\n",
        "\n",
        "    # Lemmatization\n",
        "    lemmatizer = WordNetLemmatizer()\n",
        "    tokens = [lemmatizer.lemmatize(word) for word in tokens]\n",
        "\n",
        "    # Rejoin tokens into a cleaned sentence\n",
        "    cleaned_text = ' '.join(tokens)\n",
        "    return cleaned_text\n"
      ],
      "metadata": {
        "id": "TsiuGcXt-18y"
      },
      "execution_count": null,
      "outputs": []
    },
    {
      "cell_type": "code",
      "source": [
        "creatine_df['cleaned_comments'] = creatine_df['comment'].apply(preprocess_text)"
      ],
      "metadata": {
        "colab": {
          "base_uri": "https://localhost:8080/"
        },
        "id": "kjsdjo_P9PMX",
        "outputId": "1e4d38a8-7736-4ba4-98c1-c485cb1a2bb7"
      },
      "execution_count": null,
      "outputs": [
        {
          "output_type": "stream",
          "name": "stderr",
          "text": [
            "<ipython-input-45-e60155d5d03a>:1: SettingWithCopyWarning: \n",
            "A value is trying to be set on a copy of a slice from a DataFrame.\n",
            "Try using .loc[row_indexer,col_indexer] = value instead\n",
            "\n",
            "See the caveats in the documentation: https://pandas.pydata.org/pandas-docs/stable/user_guide/indexing.html#returning-a-view-versus-a-copy\n",
            "  creatine_df['cleaned_comments'] = creatine_df['comment'].apply(preprocess_text)\n"
          ]
        }
      ]
    },
    {
      "cell_type": "code",
      "source": [
        "creatine_df.head()"
      ],
      "metadata": {
        "colab": {
          "base_uri": "https://localhost:8080/",
          "height": 206
        },
        "id": "Nl3x-DaT_Umw",
        "outputId": "7c015e84-44dc-44bc-8249-fd380a6eeff2"
      },
      "execution_count": null,
      "outputs": [
        {
          "output_type": "execute_result",
          "data": {
            "text/plain": [
              "             product_name       comment_header  \\\n",
              "210  MUSCLEBLAZE Creatine      Value-for-money   \n",
              "211  MUSCLEBLAZE Creatine  Best in the market!   \n",
              "212  MUSCLEBLAZE Creatine   Highly recommended   \n",
              "213  MUSCLEBLAZE Creatine            Fabulous!   \n",
              "214  MUSCLEBLAZE Creatine       Simply awesome   \n",
              "\n",
              "                                               comment rating  \\\n",
              "210                   nice product u should go for it💪      4   \n",
              "211  Superb product. Gives you lots of energy and s...      5   \n",
              "212                           Break Our Own Limits....      5   \n",
              "213  1st user of a creatine supplement.  I totally ...      5   \n",
              "214  best and authentic product .good packaging and...      5   \n",
              "\n",
              "                                      cleaned_comments  \n",
              "210                 nice product u go it:flexed_biceps  \n",
              "211  superb product give lot energy strength excell...  \n",
              "212                                        break limit  \n",
              "213  1st user creatine supplement totally loved tak...  \n",
              "214  best authentic product good packaging original...  "
            ],
            "text/html": [
              "\n",
              "  <div id=\"df-e97018fc-ec2f-46c5-8c93-42fa127b94bf\" class=\"colab-df-container\">\n",
              "    <div>\n",
              "<style scoped>\n",
              "    .dataframe tbody tr th:only-of-type {\n",
              "        vertical-align: middle;\n",
              "    }\n",
              "\n",
              "    .dataframe tbody tr th {\n",
              "        vertical-align: top;\n",
              "    }\n",
              "\n",
              "    .dataframe thead th {\n",
              "        text-align: right;\n",
              "    }\n",
              "</style>\n",
              "<table border=\"1\" class=\"dataframe\">\n",
              "  <thead>\n",
              "    <tr style=\"text-align: right;\">\n",
              "      <th></th>\n",
              "      <th>product_name</th>\n",
              "      <th>comment_header</th>\n",
              "      <th>comment</th>\n",
              "      <th>rating</th>\n",
              "      <th>cleaned_comments</th>\n",
              "    </tr>\n",
              "  </thead>\n",
              "  <tbody>\n",
              "    <tr>\n",
              "      <th>210</th>\n",
              "      <td>MUSCLEBLAZE Creatine</td>\n",
              "      <td>Value-for-money</td>\n",
              "      <td>nice product u should go for it💪</td>\n",
              "      <td>4</td>\n",
              "      <td>nice product u go it:flexed_biceps</td>\n",
              "    </tr>\n",
              "    <tr>\n",
              "      <th>211</th>\n",
              "      <td>MUSCLEBLAZE Creatine</td>\n",
              "      <td>Best in the market!</td>\n",
              "      <td>Superb product. Gives you lots of energy and s...</td>\n",
              "      <td>5</td>\n",
              "      <td>superb product give lot energy strength excell...</td>\n",
              "    </tr>\n",
              "    <tr>\n",
              "      <th>212</th>\n",
              "      <td>MUSCLEBLAZE Creatine</td>\n",
              "      <td>Highly recommended</td>\n",
              "      <td>Break Our Own Limits....</td>\n",
              "      <td>5</td>\n",
              "      <td>break limit</td>\n",
              "    </tr>\n",
              "    <tr>\n",
              "      <th>213</th>\n",
              "      <td>MUSCLEBLAZE Creatine</td>\n",
              "      <td>Fabulous!</td>\n",
              "      <td>1st user of a creatine supplement.  I totally ...</td>\n",
              "      <td>5</td>\n",
              "      <td>1st user creatine supplement totally loved tak...</td>\n",
              "    </tr>\n",
              "    <tr>\n",
              "      <th>214</th>\n",
              "      <td>MUSCLEBLAZE Creatine</td>\n",
              "      <td>Simply awesome</td>\n",
              "      <td>best and authentic product .good packaging and...</td>\n",
              "      <td>5</td>\n",
              "      <td>best authentic product good packaging original...</td>\n",
              "    </tr>\n",
              "  </tbody>\n",
              "</table>\n",
              "</div>\n",
              "    <div class=\"colab-df-buttons\">\n",
              "\n",
              "  <div class=\"colab-df-container\">\n",
              "    <button class=\"colab-df-convert\" onclick=\"convertToInteractive('df-e97018fc-ec2f-46c5-8c93-42fa127b94bf')\"\n",
              "            title=\"Convert this dataframe to an interactive table.\"\n",
              "            style=\"display:none;\">\n",
              "\n",
              "  <svg xmlns=\"http://www.w3.org/2000/svg\" height=\"24px\" viewBox=\"0 -960 960 960\">\n",
              "    <path d=\"M120-120v-720h720v720H120Zm60-500h600v-160H180v160Zm220 220h160v-160H400v160Zm0 220h160v-160H400v160ZM180-400h160v-160H180v160Zm440 0h160v-160H620v160ZM180-180h160v-160H180v160Zm440 0h160v-160H620v160Z\"/>\n",
              "  </svg>\n",
              "    </button>\n",
              "\n",
              "  <style>\n",
              "    .colab-df-container {\n",
              "      display:flex;\n",
              "      gap: 12px;\n",
              "    }\n",
              "\n",
              "    .colab-df-convert {\n",
              "      background-color: #E8F0FE;\n",
              "      border: none;\n",
              "      border-radius: 50%;\n",
              "      cursor: pointer;\n",
              "      display: none;\n",
              "      fill: #1967D2;\n",
              "      height: 32px;\n",
              "      padding: 0 0 0 0;\n",
              "      width: 32px;\n",
              "    }\n",
              "\n",
              "    .colab-df-convert:hover {\n",
              "      background-color: #E2EBFA;\n",
              "      box-shadow: 0px 1px 2px rgba(60, 64, 67, 0.3), 0px 1px 3px 1px rgba(60, 64, 67, 0.15);\n",
              "      fill: #174EA6;\n",
              "    }\n",
              "\n",
              "    .colab-df-buttons div {\n",
              "      margin-bottom: 4px;\n",
              "    }\n",
              "\n",
              "    [theme=dark] .colab-df-convert {\n",
              "      background-color: #3B4455;\n",
              "      fill: #D2E3FC;\n",
              "    }\n",
              "\n",
              "    [theme=dark] .colab-df-convert:hover {\n",
              "      background-color: #434B5C;\n",
              "      box-shadow: 0px 1px 3px 1px rgba(0, 0, 0, 0.15);\n",
              "      filter: drop-shadow(0px 1px 2px rgba(0, 0, 0, 0.3));\n",
              "      fill: #FFFFFF;\n",
              "    }\n",
              "  </style>\n",
              "\n",
              "    <script>\n",
              "      const buttonEl =\n",
              "        document.querySelector('#df-e97018fc-ec2f-46c5-8c93-42fa127b94bf button.colab-df-convert');\n",
              "      buttonEl.style.display =\n",
              "        google.colab.kernel.accessAllowed ? 'block' : 'none';\n",
              "\n",
              "      async function convertToInteractive(key) {\n",
              "        const element = document.querySelector('#df-e97018fc-ec2f-46c5-8c93-42fa127b94bf');\n",
              "        const dataTable =\n",
              "          await google.colab.kernel.invokeFunction('convertToInteractive',\n",
              "                                                    [key], {});\n",
              "        if (!dataTable) return;\n",
              "\n",
              "        const docLinkHtml = 'Like what you see? Visit the ' +\n",
              "          '<a target=\"_blank\" href=https://colab.research.google.com/notebooks/data_table.ipynb>data table notebook</a>'\n",
              "          + ' to learn more about interactive tables.';\n",
              "        element.innerHTML = '';\n",
              "        dataTable['output_type'] = 'display_data';\n",
              "        await google.colab.output.renderOutput(dataTable, element);\n",
              "        const docLink = document.createElement('div');\n",
              "        docLink.innerHTML = docLinkHtml;\n",
              "        element.appendChild(docLink);\n",
              "      }\n",
              "    </script>\n",
              "  </div>\n",
              "\n",
              "\n",
              "<div id=\"df-e1ed3eaf-6084-4d16-9f81-9c153e19b7b5\">\n",
              "  <button class=\"colab-df-quickchart\" onclick=\"quickchart('df-e1ed3eaf-6084-4d16-9f81-9c153e19b7b5')\"\n",
              "            title=\"Suggest charts.\"\n",
              "            style=\"display:none;\">\n",
              "\n",
              "<svg xmlns=\"http://www.w3.org/2000/svg\" height=\"24px\"viewBox=\"0 0 24 24\"\n",
              "     width=\"24px\">\n",
              "    <g>\n",
              "        <path d=\"M19 3H5c-1.1 0-2 .9-2 2v14c0 1.1.9 2 2 2h14c1.1 0 2-.9 2-2V5c0-1.1-.9-2-2-2zM9 17H7v-7h2v7zm4 0h-2V7h2v10zm4 0h-2v-4h2v4z\"/>\n",
              "    </g>\n",
              "</svg>\n",
              "  </button>\n",
              "\n",
              "<style>\n",
              "  .colab-df-quickchart {\n",
              "      --bg-color: #E8F0FE;\n",
              "      --fill-color: #1967D2;\n",
              "      --hover-bg-color: #E2EBFA;\n",
              "      --hover-fill-color: #174EA6;\n",
              "      --disabled-fill-color: #AAA;\n",
              "      --disabled-bg-color: #DDD;\n",
              "  }\n",
              "\n",
              "  [theme=dark] .colab-df-quickchart {\n",
              "      --bg-color: #3B4455;\n",
              "      --fill-color: #D2E3FC;\n",
              "      --hover-bg-color: #434B5C;\n",
              "      --hover-fill-color: #FFFFFF;\n",
              "      --disabled-bg-color: #3B4455;\n",
              "      --disabled-fill-color: #666;\n",
              "  }\n",
              "\n",
              "  .colab-df-quickchart {\n",
              "    background-color: var(--bg-color);\n",
              "    border: none;\n",
              "    border-radius: 50%;\n",
              "    cursor: pointer;\n",
              "    display: none;\n",
              "    fill: var(--fill-color);\n",
              "    height: 32px;\n",
              "    padding: 0;\n",
              "    width: 32px;\n",
              "  }\n",
              "\n",
              "  .colab-df-quickchart:hover {\n",
              "    background-color: var(--hover-bg-color);\n",
              "    box-shadow: 0 1px 2px rgba(60, 64, 67, 0.3), 0 1px 3px 1px rgba(60, 64, 67, 0.15);\n",
              "    fill: var(--button-hover-fill-color);\n",
              "  }\n",
              "\n",
              "  .colab-df-quickchart-complete:disabled,\n",
              "  .colab-df-quickchart-complete:disabled:hover {\n",
              "    background-color: var(--disabled-bg-color);\n",
              "    fill: var(--disabled-fill-color);\n",
              "    box-shadow: none;\n",
              "  }\n",
              "\n",
              "  .colab-df-spinner {\n",
              "    border: 2px solid var(--fill-color);\n",
              "    border-color: transparent;\n",
              "    border-bottom-color: var(--fill-color);\n",
              "    animation:\n",
              "      spin 1s steps(1) infinite;\n",
              "  }\n",
              "\n",
              "  @keyframes spin {\n",
              "    0% {\n",
              "      border-color: transparent;\n",
              "      border-bottom-color: var(--fill-color);\n",
              "      border-left-color: var(--fill-color);\n",
              "    }\n",
              "    20% {\n",
              "      border-color: transparent;\n",
              "      border-left-color: var(--fill-color);\n",
              "      border-top-color: var(--fill-color);\n",
              "    }\n",
              "    30% {\n",
              "      border-color: transparent;\n",
              "      border-left-color: var(--fill-color);\n",
              "      border-top-color: var(--fill-color);\n",
              "      border-right-color: var(--fill-color);\n",
              "    }\n",
              "    40% {\n",
              "      border-color: transparent;\n",
              "      border-right-color: var(--fill-color);\n",
              "      border-top-color: var(--fill-color);\n",
              "    }\n",
              "    60% {\n",
              "      border-color: transparent;\n",
              "      border-right-color: var(--fill-color);\n",
              "    }\n",
              "    80% {\n",
              "      border-color: transparent;\n",
              "      border-right-color: var(--fill-color);\n",
              "      border-bottom-color: var(--fill-color);\n",
              "    }\n",
              "    90% {\n",
              "      border-color: transparent;\n",
              "      border-bottom-color: var(--fill-color);\n",
              "    }\n",
              "  }\n",
              "</style>\n",
              "\n",
              "  <script>\n",
              "    async function quickchart(key) {\n",
              "      const quickchartButtonEl =\n",
              "        document.querySelector('#' + key + ' button');\n",
              "      quickchartButtonEl.disabled = true;  // To prevent multiple clicks.\n",
              "      quickchartButtonEl.classList.add('colab-df-spinner');\n",
              "      try {\n",
              "        const charts = await google.colab.kernel.invokeFunction(\n",
              "            'suggestCharts', [key], {});\n",
              "      } catch (error) {\n",
              "        console.error('Error during call to suggestCharts:', error);\n",
              "      }\n",
              "      quickchartButtonEl.classList.remove('colab-df-spinner');\n",
              "      quickchartButtonEl.classList.add('colab-df-quickchart-complete');\n",
              "    }\n",
              "    (() => {\n",
              "      let quickchartButtonEl =\n",
              "        document.querySelector('#df-e1ed3eaf-6084-4d16-9f81-9c153e19b7b5 button');\n",
              "      quickchartButtonEl.style.display =\n",
              "        google.colab.kernel.accessAllowed ? 'block' : 'none';\n",
              "    })();\n",
              "  </script>\n",
              "</div>\n",
              "    </div>\n",
              "  </div>\n"
            ]
          },
          "metadata": {},
          "execution_count": 46
        }
      ]
    },
    {
      "cell_type": "markdown",
      "source": [
        "## Create a Dictionary\n",
        "\n",
        "Create a dictionary of words and their corresponding numerical IDs."
      ],
      "metadata": {
        "id": "Nny5iFUR_8Q6"
      }
    },
    {
      "cell_type": "code",
      "source": [
        "# Create a dictionary and document-term matrix\n",
        "dictionary = corpora.Dictionary(creatine_df['cleaned_comments'].apply(str.split))"
      ],
      "metadata": {
        "id": "8bY-ew4X_w55"
      },
      "execution_count": null,
      "outputs": []
    },
    {
      "cell_type": "markdown",
      "source": [
        "## Create a Corpus\n",
        "\n",
        "Convert the tokenized documents into a bag-of-words representation (corpus), which is a list of lists where each list contains tuples of word IDs and their frequencies in the document."
      ],
      "metadata": {
        "id": "bLS975NTABCZ"
      }
    },
    {
      "cell_type": "code",
      "source": [
        "corpus = [dictionary.doc2bow(comment.split()) for comment in creatine_df['cleaned_comments']]"
      ],
      "metadata": {
        "id": "KLDlviZyACop"
      },
      "execution_count": null,
      "outputs": []
    },
    {
      "cell_type": "markdown",
      "source": [
        "## Build the LDA(Latent Dirichlet Allocation) Model\n",
        "\n",
        "Build the LDA model using the prepared corpus, dictionary, and specify the number of topics you want to extract. You can also adjust other parameters like the number of passes."
      ],
      "metadata": {
        "id": "pIPae8M-AFUg"
      }
    },
    {
      "cell_type": "code",
      "source": [
        "# Train the LDA model\n",
        "num_topics = 4  # Specify the number of topics\n",
        "lda_model = LdaModel(corpus, num_topics=num_topics, id2word=dictionary, passes=10)"
      ],
      "metadata": {
        "id": "IdNcknaHAEtw"
      },
      "execution_count": null,
      "outputs": []
    },
    {
      "cell_type": "code",
      "source": [
        "# Print the topics and top words\n",
        "for topic_id, topic_words in lda_model.print_topics():\n",
        "    print(f\"Topic {topic_id}: {topic_words}\\n\")"
      ],
      "metadata": {
        "colab": {
          "base_uri": "https://localhost:8080/"
        },
        "id": "C7_BUlHaA4kC",
        "outputId": "66c2576a-8512-44c4-b7f7-29649f5814a6"
      },
      "execution_count": null,
      "outputs": [
        {
          "output_type": "stream",
          "name": "stdout",
          "text": [
            "Topic 0: 0.047*\"product\" + 0.027*\"good\" + 0.013*\"muscle\" + 0.012*\"workout\" + 0.012*\"water\" + 0.012*\"take\" + 0.011*\"day\" + 0.011*\"energy\" + 0.011*\"work\" + 0.010*\"time\"\n",
            "\n",
            "Topic 1: 0.066*\"product\" + 0.039*\"nice\" + 0.014*\"creatine\" + 0.013*\"result\" + 0.011*\"workout\" + 0.011*\"using\" + 0.010*\"water\" + 0.009*\"original\" + 0.008*\"effective\" + 0.008*\"day\"\n",
            "\n",
            "Topic 2: 0.108*\"good\" + 0.053*\"product\" + 0.032*\"best\" + 0.023*\"creatine\" + 0.010*\"result\" + 0.010*\"day\" + 0.008*\"supplement\" + 0.007*\"gym\" + 0.007*\"quality\" + 0.006*\"muscle\"\n",
            "\n",
            "Topic 3: 0.018*\"product\" + 0.018*\"u\" + 0.012*\"water\" + 0.012*\"creatine\" + 0.011*\"month\" + 0.010*\"work\" + 0.009*\"strength\" + 0.009*\"drink\" + 0.007*\"give\" + 0.007*\"result\"\n",
            "\n"
          ]
        }
      ]
    },
    {
      "cell_type": "markdown",
      "source": [
        "### Possible topic labels and their interpretations for the provided topics generated by the LDA model:\n",
        "\n",
        "**Topic 0: Workout and Energy**\n",
        "\n",
        "Words: \"product,\" \"good,\" \"muscle,\" \"workout,\" \"water,\" \"take,\" \"day,\" \"energy,\" \"work,\" \"time\"\n",
        "\n",
        "Interpretation: This topic seems to be related to fitness and workout activities. It may discuss products that help with energy, muscle growth, and effective workouts. Users in this topic could be sharing their experiences and routines.\n",
        "\n",
        "**Topic 1: Product Quality**\n",
        "\n",
        "Words: \"product,\" \"nice,\" \"creatine,\" \"result,\" \"workout,\" \"using,\" \"water,\" \"original,\" \"effective,\" \"day\"\n",
        "\n",
        "Interpretation: This topic appears to focus on the quality and effectiveness of a product, possibly a supplement. Users in this topic may be discussing the results they have achieved, the use of the product, and its overall quality.\n",
        "\n",
        "**Topic 2: Best Products**\n",
        "\n",
        "Words: \"good,\" \"product,\" \"best,\" \"creatine,\" \"result,\" \"day,\" \"supplement,\" \"gym,\" \"quality,\" \"muscle\"\n",
        "\n",
        "Interpretation: This topic revolves around the discussion of the best products, especially related to muscle growth and supplements. Users in this topic may be sharing their recommendations and experiences with top-quality products.\n",
        "\n",
        "**Topic 3: Usage and Results**\n",
        "\n",
        "Words: \"product,\" \"u,\" \"water,\" \"creatine,\" \"month,\" \"work,\" \"strength,\" \"drink,\" \"give,\" \"result\"\n",
        "\n",
        "Interpretation: This topic seems to be about product usage and the results achieved over time. Users in this topic may be discussing their experiences, including the duration of use, changes in strength, and the outcomes they've observed.\n",
        "\n",
        "These interpretations are based on the prominent words in each topic, topic modeling is unsupervised, so the labels are generated based on word distributions.  The topics are generated based on the underlying patterns in the text data, and these interpretations provide a general understanding of what each topic represents. The actual context and meaning may vary based on the specific content of the documents in the dataset."
      ],
      "metadata": {
        "id": "RXQSgzbbCsIh"
      }
    },
    {
      "cell_type": "markdown",
      "source": [
        "## Evaluate the performance and quality of topic Latent Dirichlet Allocation (LDA).\n",
        "\n",
        "Topic Coherence and Perplexity are two metrics used to evaluate the performance and quality of topic models, such as Latent Dirichlet Allocation (LDA).\n",
        "\n",
        "1. **Topic Coherence:**\n",
        "   \n",
        "   - **Definition:** Topic coherence measures how interpretable and meaningful the topics generated by a topic model are. It aims to assess the quality of topics by considering the semantic similarity between words within a topic.\n",
        "\n",
        "   - **How it works:** For each topic, topic coherence calculates the pairwise similarity between the words that make up that topic. It then averages these pairwise similarities to give a coherence score for the topic. Higher coherence scores indicate more coherent and understandable topics.\n",
        "\n",
        "   - **Use:** Researchers and data scientists use topic coherence to select the best number of topics for a model (since too few or too many topics can lead to less coherent topics) and to fine-tune model parameters to improve topic quality.\n",
        "\n",
        "2. **Perplexity:**\n",
        "   \n",
        "   - **Definition:** Perplexity is a measure of how well a topic model predicts a set of documents. It's often used to evaluate the predictive performance of a topic model on unseen data. Lower perplexity values indicate better predictive performance.\n",
        "\n",
        "   - **How it works:** Perplexity calculates how surprised the model is when it tries to predict the words in a document. If the model is good at predicting the words, it won't be surprised much, resulting in a lower perplexity score.\n",
        "\n",
        "   - **Use:** Perplexity helps in assessing the overall quality of a topic model. It's often used during the model training process to select the best model among different parameter settings. Lower perplexity values suggest that the model captures the underlying structure of the data more effectively.\n",
        "\n",
        "In summary, topic coherence evaluates the quality of topics in terms of their interpretability and coherence, while perplexity assesses how well a topic model predicts unseen data. These metrics are essential for guiding the development and refinement of topic models to ensure they provide meaningful insights and are capable of making accurate predictions."
      ],
      "metadata": {
        "id": "JVPeG0SZDb5a"
      }
    },
    {
      "cell_type": "code",
      "source": [
        "from gensim.corpora import Dictionary, MmCorpus\n",
        "from gensim.models.coherencemodel import CoherenceModel\n",
        "\n",
        "# Calculate Perplexity Score\n",
        "perplexity_score = lda_model.log_perplexity(corpus)\n",
        "print(f\"Perplexity Score: {perplexity_score}\")\n",
        "\n",
        "# Calculate Coherence Score\n",
        "coherence_model = CoherenceModel(model=lda_model, texts=creatine_df[creatine_df['product_name'] == 'MUSCLEBLAZE Creatine']['cleaned_comments'].apply(str.split), dictionary=dictionary, coherence='c_v')\n",
        "coherence_score = coherence_model.get_coherence()\n",
        "print(f\"Basic LDA Model Coherence Score: {coherence_score}\")"
      ],
      "metadata": {
        "colab": {
          "base_uri": "https://localhost:8080/"
        },
        "id": "HqkJbaB-C37S",
        "outputId": "c7d27fdf-ebc8-4c27-89e7-e4c85e7a81da"
      },
      "execution_count": null,
      "outputs": [
        {
          "output_type": "stream",
          "name": "stdout",
          "text": [
            "Perplexity Score: -6.745738560250404\n",
            "Basic LDA Model Coherence Score: 0.5635755335231217\n"
          ]
        }
      ]
    },
    {
      "cell_type": "markdown",
      "source": [
        "\n",
        "1. **Perplexity Score: -6.7268470740730075**\n",
        "   \n",
        "   - **Interpretation:** A perplexity score of -6.73 suggests that the model performs quite well in predicting the words within the documents.\n",
        "\n",
        "   - **Use:** Lower perplexity scores are generally better, indicating that the model is better at predicting the words in the text. However, the absolute value of perplexity doesn't provide much context on its own, so it's often compared to perplexity scores from other models or configurations to determine the best-performing one.\n",
        "\n",
        "2. **Basic LDA Model Coherence Score: 0.5476761288466385**\n",
        "\n",
        "   - **Interpretation:** Coherence score measures the quality and interpretability of the topics generated by the LDA model. A coherence score of **0.548** indicates that the topics are coherent and meaningful. Higher coherence scores are generally better, suggesting that the topics are more interpretable.\n",
        "\n",
        "   - **Use:** Coherence scores are used to select the number of topics and fine-tune the LDA model's parameters to improve topic quality. While 0.548 is a reasonable coherence score, further optimization and refinement of the model may lead to even more interpretable topics."
      ],
      "metadata": {
        "id": "Ll-P40F2E9eR"
      }
    },
    {
      "cell_type": "markdown",
      "source": [
        "## Model improvement\n",
        "\n",
        "### How to find the optimal number of topics for LDA?\n",
        "\n",
        "Finding the optimal number of topics for an LDA (Latent Dirichlet Allocation) model is a crucial step in improving the quality of your topic modeling results. Here are several methods you can use to determine the optimal number of topics:\n",
        "\n",
        "Domain Knowledge: Start with your domain knowledge. Consider the nature of your text data and think about how many topics would make sense. Sometimes, a rough estimate based on your expertise can be a good starting point.\n",
        "\n",
        "Visual Inspection: Visualize the topics generated by different numbers of topics and assess their interpretability. You can create word clouds or bar charts to see if the topics make sense to you. Tools like pyLDAvis can be helpful for this purpose.\n",
        "\n",
        "Topic Coherence: Calculate the coherence score for different numbers of topics. This score measures the quality and interpretability of topics. Typically, coherence scores increase as the number of topics increases until a point where they start to plateau. Choose the number of topics just before this plateau."
      ],
      "metadata": {
        "id": "u8dZ5mK1GvLj"
      }
    },
    {
      "cell_type": "code",
      "source": [
        "\n",
        "# Define a range of candidate topic numbers\n",
        "topic_range = range(2, 11)  # Try 2 to 10 topics\n",
        "\n",
        "# Initialize a list to store coherence scores for each number of topics\n",
        "coherence_scores = []\n",
        "\n",
        "# Calculate coherence scores for different topic numbers\n",
        "for num_topics in topic_range:\n",
        "    lda_model = LdaModel(corpus, num_topics=num_topics, id2word=dictionary, passes=10)\n",
        "    coherence_model = CoherenceModel(model=lda_model, texts=creatine_df['cleaned_comments'].apply(str.split), dictionary=dictionary, coherence='c_v')\n",
        "    coherence_score = coherence_model.get_coherence()\n",
        "    coherence_scores.append(coherence_score)\n",
        "    print(f\"Coherence Score for {num_topics} Topics: {coherence_score}\")\n",
        "\n",
        "# Plot the coherence scores to find the optimal number of topics\n",
        "import matplotlib.pyplot as plt\n",
        "\n",
        "plt.figure(figsize=(10, 5))\n",
        "plt.plot(topic_range, coherence_scores, marker='o', linestyle='-')\n",
        "plt.xlabel(\"Number of Topics\")\n",
        "plt.ylabel(\"Coherence Score (c_v)\")\n",
        "plt.title(\"Coherence Score vs. Number of Topics\")\n",
        "plt.xticks(topic_range)\n",
        "plt.grid(True)\n",
        "plt.show()\n",
        "\n",
        "# Find the optimal number of topics based on the highest coherence score\n",
        "optimal_num_topics = topic_range[coherence_scores.index(max(coherence_scores))]\n",
        "print(f\"Optimal Number of Topics: {optimal_num_topics}\")\n"
      ],
      "metadata": {
        "colab": {
          "base_uri": "https://localhost:8080/",
          "height": 661
        },
        "id": "ycQT3S_RIwja",
        "outputId": "35807ace-6323-45ed-995d-19e7ff424b5e"
      },
      "execution_count": null,
      "outputs": [
        {
          "output_type": "stream",
          "name": "stdout",
          "text": [
            "Coherence Score for 2 Topics: 0.523210262431453\n",
            "Coherence Score for 3 Topics: 0.5621894389060841\n",
            "Coherence Score for 4 Topics: 0.5849937659910008\n",
            "Coherence Score for 5 Topics: 0.5341081317651646\n",
            "Coherence Score for 6 Topics: 0.49649612477320826\n",
            "Coherence Score for 7 Topics: 0.4773668107649937\n",
            "Coherence Score for 8 Topics: 0.513244110638176\n",
            "Coherence Score for 9 Topics: 0.48272650554189134\n",
            "Coherence Score for 10 Topics: 0.49146684472483254\n"
          ]
        },
        {
          "output_type": "display_data",
          "data": {
            "text/plain": [
              "<Figure size 1000x500 with 1 Axes>"
            ],
            "image/png": "[encoded data removed]"
          },
          "metadata": {}
        },
        {
          "output_type": "stream",
          "name": "stdout",
          "text": [
            "Optimal Number of Topics: 4\n"
          ]
        }
      ]
    },
    {
      "cell_type": "markdown",
      "source": [
        "## Other Hyperparameters\n",
        "\n",
        "In addition to the number of topics, Latent Dirichlet Allocation (LDA) has several hyperparameters that can significantly impact the quality of your topic model. Here are some important hyperparameters to consider when fine-tuning your LDA model:\n",
        "\n",
        "1. **Alpha (α):** Alpha is a hyperparameter that controls the sparsity of document-topic distributions. It determines how many topics are likely to be present in a document. A low alpha (e.g., 0.01) makes documents sparse (few topics per document), while a high alpha (e.g., 1.0) makes documents more dense (many topics per document). The optimal value depends on your dataset and the expected number of topics in each document.\n",
        "\n",
        "2. **Beta (β):** Beta is a hyperparameter that controls the sparsity of topic-word distributions. It influences how many words are associated with each topic. A low beta (e.g., 0.01) makes topics sparse (few words per topic), while a high beta (e.g., 1.0) makes topics more dense (many words per topic). The optimal value depends on your dataset and the expected number of words associated with each topic.\n",
        "\n",
        "3. **Number of Passes:** This hyperparameter (often denoted as `passes`) determines how many times the LDA algorithm goes through the entire dataset during training. A higher number of passes may lead to better convergence, but it also increases training time. The optimal value depends on the size of your dataset and the desired model quality.\n",
        "\n",
        "4. **Chunksize:** The `chunksize` hyperparameter controls the number of documents processed in each training iteration. A smaller chunk size consumes less memory but may require more iterations. A larger chunk size can speed up training but requires more memory. Adjust this based on your available resources.\n",
        "\n",
        "5. **Minimum Probability:** You can set a `minimum_probability` threshold to filter out topics with low probabilities when assigning topics to documents. This can help remove less relevant topics and improve topic-document assignments.\n",
        "\n",
        "6. **Random State:** Setting the `random_state` allows you to reproduce results. This is useful for ensuring that your LDA model produces consistent results across different runs.\n",
        "\n",
        "7. **Eta (η):** Eta is another hyperparameter that controls topic-word distributions, but it's less commonly tuned than alpha and beta. It can be useful for adjusting the prior probability of words in topics, but its effect may be less pronounced than alpha and beta.\n",
        "\n",
        "8. **Convergence Parameters:** Some LDA implementations provide convergence-related hyperparameters, such as `minimum_probability`, `minimum_phi_value`, and `per_word_topics`. These can be useful for fine-tuning model convergence.\n",
        "\n",
        "9. **Topic Initialization:** LDA models can be sensitive to the choice of initial topic assignments. Some implementations allow you to specify an initial state for better results.\n",
        "\n",
        "10. **Regularization Techniques:** Depending on the implementation, you might have access to regularization techniques like 'asymmetric' priors or other methods to encourage sparsity in topic distributions.\n",
        "\n",
        "To find the best combination of hyperparameters for your specific dataset, you can perform hyperparameter tuning using techniques like grid search or random search while evaluating the model's performance (e.g., coherence score) on a held-out validation dataset."
      ],
      "metadata": {
        "id": "yG3tgUpRKLg7"
      }
    },
    {
      "cell_type": "code",
      "source": [
        "# Define hyperparameters\n",
        "num_topics = 3  # Number of topics\n",
        "passes = 10  # Number of passes over the corpus\n",
        "alpha = 'auto'  # Alpha hyperparameter (use 'auto' for automatic calculation)\n",
        "eta = 'auto'  # Eta hyperparameter (use 'auto' for automatic calculation)\n",
        "chunksize = 100  # Number of documents in each chunk\n",
        "decay = 0.5  # Learning rate decay\n",
        "iterations = 100  # Maximum number of iterations\n",
        "minimum_probability = 0.01  # Minimum probability threshold\n",
        "\n",
        "# Train the LDA model\n",
        "lda_model = LdaModel(corpus,\n",
        "                     num_topics=num_topics,\n",
        "                     id2word=dictionary,\n",
        "                     passes=passes,\n",
        "                     alpha=alpha,\n",
        "                     eta=eta,\n",
        "                     chunksize=chunksize,\n",
        "                     decay=decay,\n",
        "                     iterations=iterations,\n",
        "                     minimum_probability=minimum_probability,\n",
        "                     random_state=42)  # You can set a random state for reproducibility\n",
        "\n",
        "# Calculate coherence score\n",
        "coherence_model = CoherenceModel(model=lda_model, texts=creatine_df['cleaned_comments'].apply(str.split), dictionary=dictionary, coherence='c_v')\n",
        "coherence_score = coherence_model.get_coherence()\n",
        "\n",
        "for topic_id, topic_words in lda_model.print_topics():\n",
        "    print(f\"Topic {topic_id}: {topic_words}\\n\")\n",
        "\n",
        "# Print the coherence score\n",
        "print(f\"Coherence Score: {coherence_score}\")"
      ],
      "metadata": {
        "colab": {
          "base_uri": "https://localhost:8080/"
        },
        "id": "KZ1hDnV6KmU5",
        "outputId": "e869d1c0-dfa4-4333-ade1-998a29b7f22d"
      },
      "execution_count": null,
      "outputs": [
        {
          "output_type": "stream",
          "name": "stdout",
          "text": [
            "Topic 0: 0.021*\"creatine\" + 0.016*\"day\" + 0.016*\"water\" + 0.013*\"workout\" + 0.012*\"take\" + 0.010*\"work\" + 0.010*\"use\" + 0.009*\"month\" + 0.009*\"drink\" + 0.008*\"week\"\n",
            "\n",
            "Topic 1: 0.133*\"product\" + 0.105*\"good\" + 0.050*\"best\" + 0.016*\"body\" + 0.015*\"genuine\" + 0.014*\"muscle\" + 0.014*\"effect\" + 0.014*\"flipkart\" + 0.013*\"used\" + 0.011*\"result\"\n",
            "\n",
            "Topic 2: 0.126*\"nice\" + 0.020*\"quality\" + 0.013*\"ok\" + 0.013*\"bad\" + 0.012*\"super\" + 0.008*\"thumbs_up\" + 0.006*\"dont\" + 0.006*\"flexed_biceps\" + 0.005*\"average\" + 0.005*\"test\"\n",
            "\n",
            "Coherence Score: 0.6233862449123243\n"
          ]
        }
      ]
    },
    {
      "cell_type": "markdown",
      "source": [
        "## Tuning Hyperparametrs"
      ],
      "metadata": {
        "id": "oKXk0KHZQ7Ma"
      }
    },
    {
      "cell_type": "code",
      "source": [
        "from gensim import corpora\n",
        "from itertools import product\n",
        "\n",
        "\n",
        "# Create a dictionary and a corpus\n",
        "dictionary = corpora.Dictionary(creatine_df['cleaned_comments'].apply(str.split))\n",
        "\n",
        "corpus = [dictionary.doc2bow(comment.split()) for comment in creatine_df['cleaned_comments']]\n",
        "\n",
        "# Define hyperparameters and their candidate values\n",
        "param_grid = {\n",
        "    'num_topics': [2, 3, 4, 5],  # Number of topics\n",
        "    'passes': [10, 15],  # Number of passes over the corpus\n",
        "    'alpha': ['auto', 0.01, 0.1, 1.0],  # Alpha hyperparameter\n",
        "    'eta': ['auto', 0.01, 0.1, 1.0]  # Eta hyperparameter\n",
        "}\n",
        "\n",
        "best_coherence_score = -float('inf')\n",
        "best_lda_model = None\n",
        "best_hyperparameters = None\n",
        "\n",
        "# Iterate over hyperparameter combinations\n",
        "for hyperparameters in product(*param_grid.values()):\n",
        "    num_topics, passes, alpha, eta = hyperparameters\n",
        "\n",
        "    # Train the LDA model\n",
        "    lda_model = LdaModel(corpus, id2word=dictionary, num_topics=num_topics, passes=passes, alpha=alpha, eta=eta)\n",
        "\n",
        "    # Calculate coherence score\n",
        "    coherence_model = CoherenceModel(model=lda_model, texts=creatine_df['cleaned_comments'].apply(str.split), dictionary=dictionary, coherence='c_v')\n",
        "    coherence_score = coherence_model.get_coherence()\n",
        "\n",
        "    # Update best model if the coherence score is better\n",
        "    if coherence_score > best_coherence_score:\n",
        "        best_coherence_score = coherence_score\n",
        "        best_lda_model = lda_model\n",
        "        best_hyperparameters = hyperparameters\n",
        "\n",
        "# Print the best hyperparameters\n",
        "print(\"Best Hyperparameters:\")\n",
        "print(\"Number of Topics:\", best_hyperparameters[0])\n",
        "print(\"Passes:\", best_hyperparameters[1])\n",
        "print(\"Alpha:\", best_hyperparameters[2])\n",
        "print(\"Eta:\", best_hyperparameters[3])\n",
        "\n",
        "# Print the best topics\n",
        "topics = best_lda_model.print_topics(num_words=10)\n",
        "for topic in topics:\n",
        "    print(topic)\n",
        "\n",
        "# Print the best coherence score\n",
        "print(f\"Coherence Score: {best_coherence_score}\")\n"
      ],
      "metadata": {
        "colab": {
          "base_uri": "https://localhost:8080/"
        },
        "id": "EwJc-rxQRj6w",
        "outputId": "aa9d1e86-9e82-46cf-9974-a0880c94e29e"
      },
      "execution_count": null,
      "outputs": [
        {
          "output_type": "stream",
          "name": "stdout",
          "text": [
            "Best Hyperparameters:\n",
            "Number of Topics: 2\n",
            "Passes: 10\n",
            "Alpha: 0.1\n",
            "Eta: auto\n",
            "(0, '0.032*\"product\" + 0.016*\"creatine\" + 0.014*\"water\" + 0.012*\"take\" + 0.012*\"day\" + 0.009*\"good\" + 0.008*\"drink\" + 0.008*\"u\" + 0.007*\"weight\" + 0.007*\"effect\"')\n",
            "(1, '0.062*\"product\" + 0.057*\"good\" + 0.020*\"nice\" + 0.018*\"best\" + 0.013*\"result\" + 0.013*\"creatine\" + 0.008*\"muscle\" + 0.008*\"workout\" + 0.007*\"day\" + 0.007*\"one\"')\n",
            "Coherence Score: 0.6088966075295378\n"
          ]
        }
      ]
    },
    {
      "cell_type": "markdown",
      "source": [
        "### Summary:\n",
        "In this analysis, we applied Latent Dirichlet Allocation (LDA), a topic modeling technique, to a dataset of product reviews for a health supplement. We identified several topics within the reviews, such as workout and energy, product quality, best products, and usage/results. We evaluated the model's performance using coherence and perplexity scores, with the aim of finding the optimal number of topics and tuning hyperparameters for better results. The coherence score indicated that the topics generated by the model were coherent and meaningful. Additionally, we discussed the importance of hyperparameter tuning to further improve the model's quality.\n",
        "\n",
        "## Conclusion:\n",
        "Topic modeling using LDA is a valuable technique for uncovering hidden patterns and themes in text data. In this specific analysis, we successfully identified and interpreted topics within product reviews, providing insights into customer opinions and experiences. By optimizing the number of topics and hyperparameters, we can enhance the quality and interpretability of the topic model, making it a useful tool for various natural language processing tasks."
      ],
      "metadata": {
        "id": "utVS9o00Z0Ka"
      }
    }
  ]
}